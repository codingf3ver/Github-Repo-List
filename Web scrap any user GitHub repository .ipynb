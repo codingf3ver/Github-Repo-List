{
 "cells": [
  {
   "cell_type": "markdown",
   "metadata": {},
   "source": [
    "<h2> <center>Finding list for any GitHub user repositories </center></h2>\n"
   ]
  },
  {
   "cell_type": "code",
   "execution_count": 1,
   "metadata": {},
   "outputs": [],
   "source": [
    "from bs4 import BeautifulSoup\n",
    "import requests\n",
    "import pandas as pd"
   ]
  },
  {
   "cell_type": "code",
   "execution_count": 2,
   "metadata": {},
   "outputs": [
    {
     "name": "stdout",
     "output_type": "stream",
     "text": [
      "Enter GitHub Username: codingf3ver\n"
     ]
    }
   ],
   "source": [
    "#getting username\n",
    "username = input('Enter GitHub Username: ')\n",
    "\n",
    "def repoConnection(username):\n",
    "    \n",
    "    #Establishing connection ...\n",
    "    reponse = requests.get('https://github.com/' + username +  '?tab=repositories')\n",
    "    if reponse.status_code != 200:\n",
    "        raise Exception(\"Failed to find the user kindly check your 'username'\")\n",
    "   \n",
    "    #Getting text document\n",
    "    url_page = reponse.text\n",
    "    \n",
    "    #Getting document as beautiful soup object\n",
    "    soup = BeautifulSoup(url_page , 'html.parser')\n",
    "    return soup\n",
    "repo_con = repoConnection(username)"
   ]
  },
  {
   "cell_type": "code",
   "execution_count": 3,
   "metadata": {},
   "outputs": [],
   "source": [
    "def gitRepository(repo_con):\n",
    "    \n",
    "    #Pretifying will clean the unnecesary tags\n",
    "    repo_con.prettify()\n",
    "    \n",
    "    #Finding parent class for repository using class name\n",
    "    repo_tags = \"wb-break-all\"\n",
    "    repository = repo_con.find_all('h3',{'class':repo_tags})\n",
    "    \n",
    "    #Repository List\n",
    "    repo_list = []\n",
    "    \n",
    "    #Finding repostiory name\n",
    "    for i in range(len(repository)):\n",
    "        repo = repository[i].find('a')\n",
    "        repo = repo.text.strip()\n",
    "        repo_list.append(repo)\n",
    "    return repo_list\n",
    "\n",
    "gitrepo = gitRepository(repo_con)"
   ]
  },
  {
   "cell_type": "code",
   "execution_count": 4,
   "metadata": {},
   "outputs": [
    {
     "data": {
      "text/html": [
       "<div>\n",
       "<style scoped>\n",
       "    .dataframe tbody tr th:only-of-type {\n",
       "        vertical-align: middle;\n",
       "    }\n",
       "\n",
       "    .dataframe tbody tr th {\n",
       "        vertical-align: top;\n",
       "    }\n",
       "\n",
       "    .dataframe thead th {\n",
       "        text-align: right;\n",
       "    }\n",
       "</style>\n",
       "<table border=\"1\" class=\"dataframe\">\n",
       "  <thead>\n",
       "    <tr style=\"text-align: right;\">\n",
       "      <th></th>\n",
       "      <th>codingf3ver Repository List</th>\n",
       "    </tr>\n",
       "  </thead>\n",
       "  <tbody>\n",
       "    <tr>\n",
       "      <th>0</th>\n",
       "      <td>Credit-Card-Application</td>\n",
       "    </tr>\n",
       "    <tr>\n",
       "      <th>1</th>\n",
       "      <td>Machine-Learning-Algo-From-Scratch</td>\n",
       "    </tr>\n",
       "    <tr>\n",
       "      <th>2</th>\n",
       "      <td>Data-Structure-For-Data-Science</td>\n",
       "    </tr>\n",
       "    <tr>\n",
       "      <th>3</th>\n",
       "      <td>Error-Handling-In-Data-Cleaning</td>\n",
       "    </tr>\n",
       "    <tr>\n",
       "      <th>4</th>\n",
       "      <td>Exploratory-Data-Analysis</td>\n",
       "    </tr>\n",
       "  </tbody>\n",
       "</table>\n",
       "</div>"
      ],
      "text/plain": [
       "          codingf3ver Repository List\n",
       "0             Credit-Card-Application\n",
       "1  Machine-Learning-Algo-From-Scratch\n",
       "2     Data-Structure-For-Data-Science\n",
       "3     Error-Handling-In-Data-Cleaning\n",
       "4           Exploratory-Data-Analysis"
      ]
     },
     "execution_count": 4,
     "metadata": {},
     "output_type": "execute_result"
    }
   ],
   "source": [
    "#Repository dictionary\n",
    "repo_dict = {f'{username} Repository List': gitrepo}\n",
    "\n",
    "#Repository dataframe\n",
    "repo_df = pd.DataFrame(repo_dict)\n",
    "repo_df.head()"
   ]
  },
  {
   "cell_type": "code",
   "execution_count": 5,
   "metadata": {},
   "outputs": [],
   "source": [
    "repo_df.to_csv(f'{username} repository list.csv',index =None)"
   ]
  },
  {
   "cell_type": "markdown",
   "metadata": {},
   "source": [
    "Note: This list will only display for the repective url i.e repository available on a single webpage although user can have more than that if you want to fetch for another page simply replace the 'url' ref: row 2 "
   ]
  },
  {
   "cell_type": "code",
   "execution_count": null,
   "metadata": {},
   "outputs": [],
   "source": []
  }
 ],
 "metadata": {
  "kernelspec": {
   "display_name": "Python 3",
   "language": "python",
   "name": "python3"
  },
  "language_info": {
   "codemirror_mode": {
    "name": "ipython",
    "version": 3
   },
   "file_extension": ".py",
   "mimetype": "text/x-python",
   "name": "python",
   "nbconvert_exporter": "python",
   "pygments_lexer": "ipython3",
   "version": "3.8.3"
  }
 },
 "nbformat": 4,
 "nbformat_minor": 4
}
